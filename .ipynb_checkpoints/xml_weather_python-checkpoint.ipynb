{
 "cells": [
  {
   "cell_type": "code",
   "execution_count": null,
   "metadata": {
    "collapsed": true
   },
   "outputs": [],
   "source": [
    "import xml.etree.ElementTree as ET\n",
    "import os\n",
    "import csv\n",
    "import glob\n",
    "import pandas as pd\n",
    "from IPython.display import IFrame"
   ]
  },
  {
   "cell_type": "markdown",
   "metadata": {},
   "source": [
    "# Data source"
   ]
  },
  {
   "cell_type": "code",
   "execution_count": null,
   "metadata": {
    "collapsed": false,
    "scrolled": true
   },
   "outputs": [],
   "source": [
    "IFrame(\"http://climate.weather.gc.ca/historical_data/search_historic_data_e.html\", width=1000, height=350)"
   ]
  },
  {
   "cell_type": "code",
   "execution_count": null,
   "metadata": {
    "collapsed": false
   },
   "outputs": [],
   "source": [
    "%cd \"./data\"\n",
    "%ls"
   ]
  },
  {
   "cell_type": "code",
   "execution_count": null,
   "metadata": {
    "collapsed": false
   },
   "outputs": [],
   "source": [
    "# transfer xml data to a dictionary\n",
    "\n",
    "def xml_to_dict(file_name):\n",
    "    \n",
    "    tree = ET.parse('{0}.xml'.format(file_name))\n",
    "    aDict = {}\n",
    "    aDict[file_name] = {}\n",
    "\n",
    "    # find all nodes with tag 'stationdate'\n",
    "    for node in tree.findall('stationdata'):\n",
    "\n",
    "        day = node.attrib.get('month')\n",
    "        month = node.attrib.get('day')\n",
    "        year = node.attrib.get('year')\n",
    "\n",
    "        ymd_key = '{0}-{1}-{2}'.format(year, month, day)  # ISO 8601 date format\n",
    "\n",
    "        aDict[file_name][ymd_key] = {}\n",
    "\n",
    "        # within 'stationdate' node, find child nodes\n",
    "        for x in node.getchildren():\n",
    "\n",
    "            data_tag = x.tag\n",
    "            data = x.text\n",
    "\n",
    "            aDict[file_name][ymd_key][data_tag] = data\n",
    "            \n",
    "    dictionary_data = aDict[file_name]\n",
    "\n",
    "    # turn dictionary to pandas dataframe\n",
    "    df = pd.DataFrame.from_dict(dictionary_data, orient='index')\n",
    "    df.reset_index(level=0, inplace=True)  # turn index to a column\n",
    "    df.rename(columns={'index': 'date'}, inplace=True) # rename column index to date\n",
    "    \n",
    "    return df\n"
   ]
  },
  {
   "cell_type": "code",
   "execution_count": null,
   "metadata": {
    "collapsed": false,
    "scrolled": false
   },
   "outputs": [],
   "source": [
    "# convert all xml files to a pandas dataframe and store them in a list\n",
    "df_list = [xml_to_dict(os.path.splitext(f)[0]) for f in glob.glob(\"eng-daily*.xml\")]\n",
    "\n",
    "# concatenate dataframes\n",
    "result = pd.concat(df_list)\n",
    "\n",
    "# with pd.option_context('display.max_rows', 999, 'display.max_columns', 10):\n",
    "#     print result"
   ]
  },
  {
   "cell_type": "code",
   "execution_count": null,
   "metadata": {
    "collapsed": false
   },
   "outputs": [],
   "source": [
    "# export to csv, label index as date\n",
    "# df.to_csv('testpandic', index_label='date')"
   ]
  },
  {
   "cell_type": "code",
   "execution_count": null,
   "metadata": {
    "collapsed": false
   },
   "outputs": [],
   "source": [
    "# check that it worked\n",
    "# dff = pd.read_csv('testpandic')"
   ]
  },
  {
   "cell_type": "markdown",
   "metadata": {},
   "source": [
    "# To do:\n",
    "- check that concatenation worked\n",
    "- plot trends"
   ]
  },
  {
   "cell_type": "code",
   "execution_count": null,
   "metadata": {
    "collapsed": true
   },
   "outputs": [],
   "source": []
  }
 ],
 "metadata": {
  "kernelspec": {
   "display_name": "Python 2",
   "language": "python",
   "name": "python2"
  },
  "language_info": {
   "codemirror_mode": {
    "name": "ipython",
    "version": 2
   },
   "file_extension": ".py",
   "mimetype": "text/x-python",
   "name": "python",
   "nbconvert_exporter": "python",
   "pygments_lexer": "ipython2",
   "version": "2.7.12"
  }
 },
 "nbformat": 4,
 "nbformat_minor": 0
}
